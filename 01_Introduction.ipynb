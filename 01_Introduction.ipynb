{
 "cells": [
  {
   "attachments": {},
   "cell_type": "markdown",
   "metadata": {
    "deletable": false,
    "editable": false
   },
   "source": [
    "<div style=\"width:100%; background-color: #000041\"><a target=\"_blank\\\" href=\"http://university.yugabyte.com\\\"><img src=\"assets/YBU_Logo.png\" /></a></div><br>\n",
    "\n",
    "> **YugabyteDB YCQL Development**\n",
    ">\n",
    "> Enroll for free at [Yugabyte University](https://university.yugabyte.com/courses/yugabytedb-ycql-development).\n",
    ">\n",
    "\n",
    "# Introduction\n",
    "The labs for this course consists of several Jupyter notebooks that run in Gitpod. [Gitpod](https://www.gitpod.io/) facilitates runtime environments using Ubuntu and VS Code in a Chromium (browser) environment. \n",
    "\n",
    "A Gitpod instance belongs to your Gitpod workspace. The instance automatically runs a three node, YugabyteDB database cluster. YugabyteDB is the world's #1 open source, distributed SQL database. \n",
    "\n",
    "> Although a three node cluster is up and running, Gitpod does not support visiting loopback addresses over a web ui, even if exposed on a different port.\n",
    "> 127.0.0.1 is the only web user interface that is exposed. To see all available ports in Gitpod, in the Terminal tab, you can run `gp ports list`.\n",
    "> \n",
    "\n",
    "## 🛠️ Requirements\n",
    "Here are the requirements for this lab:\n",
    "- ✅ Launch using this Gitpod workspace, which you are already doing\n",
    "- ✅ A running, 3 node YugabyteDB cluster, which is already running\n",
    "- ☑️ A Python 3.8.13 or higher kernel for the notebook, *which you need to select right now!!!*\n",
    "\n",
    "\n",
    "### Select your notebook kernel\n",
    "- In the Notebook toolbar, click **Select Kernel**.\n",
    "<br>\n",
    "<img width=50% src=\"assets/01_01_Select_Kernel_Toolbar.png\" />\n",
    "\n",
    "- Next, in the dropdown, select **Python 3.8.13** or higher.\n",
    "<br>\n",
    "<img width=50% src=\"assets/01_02_Select_Kernel_Dropdown.png\" />\n",
    "\n",
    "That's it!"
   ]
  },
  {
   "attachments": {},
   "cell_type": "markdown",
   "metadata": {},
   "source": [
    "## About Jupyter notebooks\n",
    "A Juypter notebook is a runtime environment for executing code. A notebook consists of one or more cells. There are three types of cells in a notebook: Markdown, Code, and Output. This is a Markdown cell.\n",
    "\n",
    "A cell has two modes: read-mode and edit-mode. By default, the cells in a notebook are in read-mode. You can run a read-mode cell that is code. To execute a code cell, select the play icon in the cell's left gutter. \n",
    "\n",
    "The execution of a code cell often results in Output. An Output cell shows the `stdout` of the previous executed code cell. You can delete an Output cell. You can also collapse the cell. In addition, you can also select `Clear Outputs of All Cells`.\n",
    "\n",
    "To modify a cell, select `Enter` or `Return`. In edit-mode, you can modify the contents of a cell. Certain labs contain challenges or experiments that require you to do just that: modify a code cell and re-run it! To switch from edit-mode to read-mode, use the `Shift+Enter` or `Shift+Return` keystroke."
   ]
  },
  {
   "attachments": {},
   "cell_type": "markdown",
   "metadata": {
    "deletable": false,
    "editable": false
   },
   "source": [
    "#### Notebook keyboard shortcuts\n",
    "You can use a shortcut when a cell is in read-mode. The Jupyter extension for Gitpod supports the following keyboard shortcuts:\n",
    "| Keystroke | Description |\n",
    "|--|--|\n",
    "| `ESC` | Change the cell mode |\n",
    "| `A` | Add a cell above |\n",
    "| `B` | Add a cell below |\n",
    "| `J` or down arrow key |  Change a cell to below | \n",
    "| `K` or up arrow key | Change a cell to above | \n",
    "| `Ctrl+Enter` | Run the currently selected cell |\n",
    "| `Shift+Enter` | Run the currently selected cell and insert a new cell immediately below (focus moves to new cell) |\n",
    "| `Alt+Enter `| Run the currently selected cell and insert a new cell immediately below (focus remains on current cell) |\n",
    "| `dd` | Delete a selected cell |\n",
    "| `z` | Undo the last change | \n",
    "| `M` | switch the cell type to Markdown | \n",
    "| `Y` | switch the cell type to code |\n",
    "| `L` | Enable/Disable line numbers |\n",
    "```\n"
   ]
  },
  {
   "attachments": {},
   "cell_type": "markdown",
   "metadata": {
    "deletable": false,
    "editable": false
   },
   "source": [
    "---\n",
    "## 👣 Setup steps\n",
    "Here are the steps to setup this lab:\n",
    "- Install missing dependencies and restart the notebook\n",
    "- Create the notebook variables"
   ]
  },
  {
   "attachments": {},
   "cell_type": "markdown",
   "metadata": {},
   "source": [
    "### Install missing dependencies and restart the notebook\n",
    "Run the following cell to ensure that the following dependencies are available to the notebook."
   ]
  },
  {
   "cell_type": "code",
   "execution_count": 1,
   "metadata": {},
   "outputs": [
    {
     "name": "stdout",
     "output_type": "stream",
     "text": [
      "Requirement already satisfied: pip in /Users/seth/.pyenv/versions/3.9.16/lib/python3.9/site-packages (23.1.2)\n",
      "Requirement already satisfied: ipython-sql~=0.5 in /Users/seth/.pyenv/versions/3.9.16/lib/python3.9/site-packages (0.5.0)\n",
      "Requirement already satisfied: prettytable in /Users/seth/.pyenv/versions/3.9.16/lib/python3.9/site-packages (from ipython-sql~=0.5) (3.6.0)\n",
      "Requirement already satisfied: ipython in /Users/seth/.pyenv/versions/3.9.16/lib/python3.9/site-packages (from ipython-sql~=0.5) (8.11.0)\n",
      "Requirement already satisfied: sqlalchemy>=2.0 in /Users/seth/.pyenv/versions/3.9.16/lib/python3.9/site-packages (from ipython-sql~=0.5) (2.0.12)\n",
      "Requirement already satisfied: sqlparse in /Users/seth/.pyenv/versions/3.9.16/lib/python3.9/site-packages (from ipython-sql~=0.5) (0.4.3)\n",
      "Requirement already satisfied: six in /Users/seth/.pyenv/versions/3.9.16/lib/python3.9/site-packages (from ipython-sql~=0.5) (1.16.0)\n",
      "Requirement already satisfied: ipython-genutils in /Users/seth/.pyenv/versions/3.9.16/lib/python3.9/site-packages (from ipython-sql~=0.5) (0.2.0)\n",
      "Requirement already satisfied: typing-extensions>=4.2.0 in /Users/seth/.pyenv/versions/3.9.16/lib/python3.9/site-packages (from sqlalchemy>=2.0->ipython-sql~=0.5) (4.5.0)\n",
      "Requirement already satisfied: greenlet!=0.4.17 in /Users/seth/.pyenv/versions/3.9.16/lib/python3.9/site-packages (from sqlalchemy>=2.0->ipython-sql~=0.5) (2.0.2)\n",
      "Requirement already satisfied: backcall in /Users/seth/.pyenv/versions/3.9.16/lib/python3.9/site-packages (from ipython->ipython-sql~=0.5) (0.2.0)\n",
      "Requirement already satisfied: decorator in /Users/seth/.pyenv/versions/3.9.16/lib/python3.9/site-packages (from ipython->ipython-sql~=0.5) (5.1.1)\n",
      "Requirement already satisfied: jedi>=0.16 in /Users/seth/.pyenv/versions/3.9.16/lib/python3.9/site-packages (from ipython->ipython-sql~=0.5) (0.18.2)\n",
      "Requirement already satisfied: matplotlib-inline in /Users/seth/.pyenv/versions/3.9.16/lib/python3.9/site-packages (from ipython->ipython-sql~=0.5) (0.1.6)\n",
      "Requirement already satisfied: pickleshare in /Users/seth/.pyenv/versions/3.9.16/lib/python3.9/site-packages (from ipython->ipython-sql~=0.5) (0.7.5)\n",
      "Requirement already satisfied: prompt-toolkit!=3.0.37,<3.1.0,>=3.0.30 in /Users/seth/.pyenv/versions/3.9.16/lib/python3.9/site-packages (from ipython->ipython-sql~=0.5) (3.0.38)\n",
      "Requirement already satisfied: pygments>=2.4.0 in /Users/seth/.pyenv/versions/3.9.16/lib/python3.9/site-packages (from ipython->ipython-sql~=0.5) (2.14.0)\n",
      "Requirement already satisfied: stack-data in /Users/seth/.pyenv/versions/3.9.16/lib/python3.9/site-packages (from ipython->ipython-sql~=0.5) (0.6.2)\n",
      "Requirement already satisfied: traitlets>=5 in /Users/seth/.pyenv/versions/3.9.16/lib/python3.9/site-packages (from ipython->ipython-sql~=0.5) (5.9.0)\n",
      "Requirement already satisfied: pexpect>4.3 in /Users/seth/.pyenv/versions/3.9.16/lib/python3.9/site-packages (from ipython->ipython-sql~=0.5) (4.8.0)\n",
      "Requirement already satisfied: appnope in /Users/seth/.pyenv/versions/3.9.16/lib/python3.9/site-packages (from ipython->ipython-sql~=0.5) (0.1.3)\n",
      "Requirement already satisfied: wcwidth in /Users/seth/.pyenv/versions/3.9.16/lib/python3.9/site-packages (from prettytable->ipython-sql~=0.5) (0.2.6)\n",
      "Requirement already satisfied: parso<0.9.0,>=0.8.0 in /Users/seth/.pyenv/versions/3.9.16/lib/python3.9/site-packages (from jedi>=0.16->ipython->ipython-sql~=0.5) (0.8.3)\n",
      "Requirement already satisfied: ptyprocess>=0.5 in /Users/seth/.pyenv/versions/3.9.16/lib/python3.9/site-packages (from pexpect>4.3->ipython->ipython-sql~=0.5) (0.7.0)\n",
      "Requirement already satisfied: executing>=1.2.0 in /Users/seth/.pyenv/versions/3.9.16/lib/python3.9/site-packages (from stack-data->ipython->ipython-sql~=0.5) (1.2.0)\n",
      "Requirement already satisfied: asttokens>=2.1.0 in /Users/seth/.pyenv/versions/3.9.16/lib/python3.9/site-packages (from stack-data->ipython->ipython-sql~=0.5) (2.2.1)\n",
      "Requirement already satisfied: pure-eval in /Users/seth/.pyenv/versions/3.9.16/lib/python3.9/site-packages (from stack-data->ipython->ipython-sql~=0.5) (0.2.2)\n",
      "Requirement already satisfied: html2text in /Users/seth/.pyenv/versions/3.9.16/lib/python3.9/site-packages (2020.1.16)\n",
      "Requirement already satisfied: jq in /Users/seth/.pyenv/versions/3.9.16/lib/python3.9/site-packages (1.4.1)\n"
     ]
    }
   ],
   "source": [
    "!pip install --upgrade pip\n",
    "!pip install ipython-sql~=0.5 --upgrade\n",
    "!pip install html2text\n",
    "!pip install jq"
   ]
  },
  {
   "attachments": {},
   "cell_type": "markdown",
   "metadata": {
    "deletable": false,
    "editable": false
   },
   "source": [
    "### Create the notebook variables \n",
    "\n",
    "> ‼️ Important\n",
    "> \n",
    "> Do **NOT** skip running the following cell. \n",
    "> \n",
    "\n",
    "The following Python cell creates and stores variables that all the notebooks in this lab will use. You can view these variables in the Jupyter tab.\n",
    "\n",
    "- To run the script, select Execute Cell (Play Arrow) in the left gutter of the cell.\n",
    "- Verify the accuracy of the output values"
   ]
  },
  {
   "cell_type": "code",
   "execution_count": 2,
   "metadata": {},
   "outputs": [
    {
     "name": "stdout",
     "output_type": "stream",
     "text": [
      "Stored 'MY_DB_NAME' (str)\n",
      "Stored 'MY_YB_PATH' (str)\n",
      "Stored 'MY_YB_PATH_DATA' (str)\n",
      "Stored 'MY_GITPOD_WORKSPACE_URL' (str)\n",
      "Stored 'MY_HOST_IPv4_01' (str)\n",
      "Stored 'MY_HOST_IPv4_02' (str)\n",
      "Stored 'MY_HOST_IPv4_03' (str)\n",
      "Stored 'MY_NOTEBOOK_DIR' (str)\n",
      "Stored 'MY_TSERVER_WEBSERVER_PORT' (str)\n",
      "Stored 'MY_NOTEBOOK_DATA_FOLDER' (str)\n",
      "Stored 'MY_YB_MASTER_HOST_GITPOD_URL' (str)\n",
      "Stored 'MY_YB_TSERVER_HOST_GITPOD_URL' (str)\n",
      "Stored 'MY_DATA_DDL_FILE' (str)\n",
      "Stored 'MY_DATA_DML_FILE' (str)\n"
     ]
    }
   ],
   "source": [
    "# Env variables for Notebook\n",
    "import os\n",
    "\n",
    "# read env_vars.env\n",
    "env_vars = !cat env_vars.env\n",
    "for var in env_vars:\n",
    "    key, value = var.split('=')\n",
    "    os.environ[key] = value\n",
    "\n",
    "### Begin: Gitpod or local\n",
    "#\n",
    "### Uncomment Gitpod specific\n",
    "#\n",
    "# MY_YB_PATH=os.environ.get('MY_YB_PATH')\n",
    "# MY_YB_PATH_DATA=os.environ.get('MY_YB_PATH_DATA')\n",
    "# MY_GITPOD_WORKSPACE_URL=os.environ.get('GITPOD_WORKSPACE_URL')\n",
    "#\n",
    "### Comment out Local \n",
    "#\n",
    "MY_YB_PATH=os.environ.get('MY_YB_PATH_LOCAL')\n",
    "MY_YB_PATH_DATA=os.environ.get('MY_YB_PATH_DATA_LOCAL')\n",
    "MY_GITPOD_WORKSPACE_URL=os.environ.get('MY_GITPOD_WORKSPACE_URL_LOCAL')\n",
    "##\n",
    "### End: Gitpod or local\n",
    "\n",
    "# env_vars defines the following\n",
    "MY_DB_NAME=os.environ.get('MY_DB_NAME')\n",
    "MY_HOST_IPv4_01=os.environ.get('MY_HOST_IPv4_01')\n",
    "MY_HOST_IPv4_02=os.environ.get('MY_HOST_IPv4_02')\n",
    "MY_HOST_IPv4_03=os.environ.get('MY_HOST_IPv4_03')\n",
    "MY_TSERVER_WEBSERVER_PORT=os.environ.get('MY_TSERVER_WEBSERVER_PORT')\n",
    "\n",
    "# Gitpod URLS\n",
    "MY_YB_MASTER_HOST_GITPOD_URL = MY_GITPOD_WORKSPACE_URL.replace('https://','https://7000-')\n",
    "MY_YB_TSERVER_HOST_GITPOD_URL = MY_GITPOD_WORKSPACE_URL.replace('https://','https://'+MY_TSERVER_WEBSERVER_PORT+'-')\n",
    "\n",
    "# Current directory of project and related child folders\n",
    "MY_NOTEBOOK_DIR=os.getcwd()\n",
    "MY_NOTEBOOK_DATA_FOLDER=MY_NOTEBOOK_DIR +'/data'\n",
    "\n",
    "# Data files\n",
    "MY_DATA_DDL_FILE=os.environ.get(\"MY_DATA_DDL_FILE\")\n",
    "MY_DATA_DML_FILE=os.environ.get(\"MY_DATA_DML_FILE\")\n",
    "\n",
    "# Store the note book values for other notebooks to use\n",
    "\n",
    "%store MY_DB_NAME\n",
    "%store MY_YB_PATH\n",
    "%store MY_YB_PATH_DATA\n",
    "%store MY_GITPOD_WORKSPACE_URL\n",
    "%store MY_HOST_IPv4_01\n",
    "%store MY_HOST_IPv4_02\n",
    "%store MY_HOST_IPv4_03\n",
    "%store MY_NOTEBOOK_DIR\n",
    "%store MY_TSERVER_WEBSERVER_PORT\n",
    "%store MY_NOTEBOOK_DATA_FOLDER\n",
    "%store MY_YB_MASTER_HOST_GITPOD_URL\n",
    "%store MY_YB_TSERVER_HOST_GITPOD_URL\n",
    "%store MY_DATA_DDL_FILE\n",
    "%store MY_DATA_DML_FILE"
   ]
  },
  {
   "attachments": {},
   "cell_type": "markdown",
   "metadata": {},
   "source": [
    "---\n",
    "## Connect to YugabyteDB with `ycqlsh`, YCQL shell\n",
    "The following commands are YCQL shell commands. Using `ycqlsh`, you can execute YCQL statements for zero or more keyspaces. \n",
    "\n",
    "You can view the commands using `--help`."
   ]
  },
  {
   "attachments": {},
   "cell_type": "markdown",
   "metadata": {},
   "source": [
    "You can connect a keyspace with `-k` or `--keyspace`."
   ]
  },
  {
   "cell_type": "code",
   "execution_count": 3,
   "metadata": {
    "vscode": {
     "languageId": "shellscript"
    }
   },
   "outputs": [
    {
     "name": "stdout",
     "output_type": "stream",
     "text": [
      "  -k KEYSPACE, --keyspace=KEYSPACE\n",
      "                        Authenticate to the given keyspace.\n"
     ]
    }
   ],
   "source": [
    "%%bash -s \"$MY_YB_PATH\"   # Shell Commands\n",
    "YB_PATH=${1}\n",
    "cd $YB_PATH/bin\n",
    "\n",
    "./ycqlsh --help | grep -A 0 keyspace"
   ]
  },
  {
   "attachments": {},
   "cell_type": "markdown",
   "metadata": {},
   "source": [
    "You can run Data Definition Language (DDL) and Data Manipulation Language (DML) commands with `-e` or `--execute`."
   ]
  },
  {
   "cell_type": "code",
   "execution_count": 4,
   "metadata": {
    "vscode": {
     "languageId": "shellscript"
    }
   },
   "outputs": [
    {
     "name": "stdout",
     "output_type": "stream",
     "text": [
      "  -e EXECUTE, --execute=EXECUTE\n",
      "                        Execute the statement and quit.\n"
     ]
    }
   ],
   "source": [
    "%%bash -s \"$MY_YB_PATH\"   # Shell Commands\n",
    "YB_PATH=${1}\n",
    "cd $YB_PATH/bin\n",
    "\n",
    "./ycqlsh --help | grep -A 1 execute"
   ]
  },
  {
   "attachments": {},
   "cell_type": "markdown",
   "metadata": {},
   "source": [
    "When connecting, it can be helpful to refresh metadata using `-r` or `--refresh_on_describe`."
   ]
  },
  {
   "cell_type": "code",
   "execution_count": 5,
   "metadata": {
    "vscode": {
     "languageId": "shellscript"
    }
   },
   "outputs": [
    {
     "name": "stdout",
     "output_type": "stream",
     "text": [
      "  -r, --refresh_on_describe\n",
      "                        Force refreshing of the schema metadata on DESCRIBE\n",
      "                        command.\n"
     ]
    }
   ],
   "source": [
    "%%bash -s \"$MY_YB_PATH\"   # Shell Commands\n",
    "YB_PATH=${1}\n",
    "cd $YB_PATH/bin\n",
    "\n",
    "./ycqlsh --help | grep -A 2 refresh_on_describe"
   ]
  },
  {
   "attachments": {},
   "cell_type": "markdown",
   "metadata": {},
   "source": [
    "---\n",
    "## YCQL commands and helpful queries\n",
    "Yugabyte Cloud Query Language (YCQL) is an Apache Cassandra compatible language. Here are some YCQL language commands that you will helpful."
   ]
  },
  {
   "cell_type": "code",
   "execution_count": 6,
   "metadata": {
    "vscode": {
     "languageId": "shellscript"
    }
   },
   "outputs": [
    {
     "name": "stdout",
     "output_type": "stream",
     "text": [
      "Current consistency level is QUORUM.\n"
     ]
    }
   ],
   "source": [
    "%%bash -s \"$MY_YB_PATH\"    # YCQL commands and queries\n",
    "YB_PATH=${1}\n",
    "cd $YB_PATH/bin\n",
    "\n",
    "./ycqlsh -r -e \"\n",
    "  CONSISTENCY;\n",
    "\""
   ]
  },
  {
   "attachments": {},
   "cell_type": "markdown",
   "metadata": {},
   "source": [
    "YCQL is compatible with CQL 3.4.2."
   ]
  },
  {
   "cell_type": "code",
   "execution_count": 7,
   "metadata": {
    "vscode": {
     "languageId": "shellscript"
    }
   },
   "outputs": [
    {
     "name": "stdout",
     "output_type": "stream",
     "text": [
      "[ycqlsh 5.0.1 | Cassandra 3.9-SNAPSHOT | CQL spec 3.4.2 | Native protocol v4]\n"
     ]
    }
   ],
   "source": [
    "%%bash -s \"$MY_YB_PATH\"    # YCQL commands and queries\n",
    "YB_PATH=${1}\n",
    "cd $YB_PATH/bin\n",
    "\n",
    "./ycqlsh -r -e \"\n",
    "  show version;\n",
    "\"  "
   ]
  },
  {
   "attachments": {},
   "cell_type": "markdown",
   "metadata": {},
   "source": [
    "You can also run a query to show the `cql` version."
   ]
  },
  {
   "cell_type": "code",
   "execution_count": null,
   "metadata": {
    "vscode": {
     "languageId": "shellscript"
    }
   },
   "outputs": [],
   "source": [
    "%%bash -s \"$MY_YB_PATH\"   # YCQL commands and queries\n",
    "YB_PATH=${1}\n",
    "cd $YB_PATH/bin\n",
    "\n",
    "./ycqlsh -r -e \"\n",
    "  select cql_version from system.local;\n",
    "\"  "
   ]
  },
  {
   "attachments": {},
   "cell_type": "markdown",
   "metadata": {},
   "source": [
    "`show host` details the host connection."
   ]
  },
  {
   "cell_type": "code",
   "execution_count": null,
   "metadata": {
    "vscode": {
     "languageId": "shellscript"
    }
   },
   "outputs": [],
   "source": [
    "%%bash -s \"$MY_YB_PATH\"   # YCQL commands and queries\n",
    "YB_PATH=${1}\n",
    "cd $YB_PATH/bin\n",
    "\n",
    "./ycqlsh -r -e \"\n",
    "  show host;\n",
    "\"  "
   ]
  },
  {
   "attachments": {},
   "cell_type": "markdown",
   "metadata": {},
   "source": [
    "`decribe kespaces`  returns the names of all keyspaces."
   ]
  },
  {
   "cell_type": "code",
   "execution_count": null,
   "metadata": {
    "vscode": {
     "languageId": "shellscript"
    }
   },
   "outputs": [],
   "source": [
    "%%bash -s \"$MY_YB_PATH\"   # YCQL commands and queries\n",
    "YB_PATH=${1}\n",
    "cd $YB_PATH/bin\n",
    "\n",
    "./ycqlsh -r -e \"\n",
    "  help describe;\n",
    "\"  \n"
   ]
  },
  {
   "attachments": {},
   "cell_type": "markdown",
   "metadata": {},
   "source": [
    "`describe tables` or `desc tables` returns the names of all tables in the current keyspace, or in all keyspacces."
   ]
  },
  {
   "cell_type": "code",
   "execution_count": null,
   "metadata": {
    "vscode": {
     "languageId": "shellscript"
    }
   },
   "outputs": [],
   "source": [
    "%%bash -s \"$MY_YB_PATH\"  # YCQL commands and queries\n",
    "YB_PATH=${1}\n",
    "cd $YB_PATH/bin\n",
    "\n",
    "./ycqlsh -r -e \"\n",
    "  desc tables;\n",
    "\""
   ]
  },
  {
   "attachments": {},
   "cell_type": "markdown",
   "metadata": {},
   "source": [
    "The following queries the roles table. `cassandra` is a default role. "
   ]
  },
  {
   "cell_type": "code",
   "execution_count": null,
   "metadata": {
    "vscode": {
     "languageId": "shellscript"
    }
   },
   "outputs": [],
   "source": [
    "%%bash -s \"$MY_YB_PATH\"    # YCQL commands and queries\n",
    "YB_PATH=${1}\n",
    "cd $YB_PATH/bin\n",
    "\n",
    "./ycqlsh -r -k \"system_auth\" -e \"\n",
    "  select * from roles;\n",
    "\"  "
   ]
  },
  {
   "attachments": {},
   "cell_type": "markdown",
   "metadata": {},
   "source": [
    "---\n",
    "# 🌟 Nice work! \n",
    "In this notebook, you completed the following:\n",
    "- Introduction\n",
    "  - Requirements\n",
    "  - About Jupyter notebooks\n",
    "  - Setup steps\n",
    "  - Connect to YugabyteDB with `ycqlsh`, YCQL shell\n",
    "  - YCQL commands and helpful queries\n",
    "\n",
    "## 😊 Next up!\n",
    "Continue your learning by opening the next notebook, `02_Language_fundamentals.ipynb`. \n",
    "\n",
    "You can either open the file from the Explorer or simply run the following cell:"
   ]
  },
  {
   "cell_type": "code",
   "execution_count": null,
   "metadata": {
    "vscode": {
     "languageId": "shellscript"
    }
   },
   "outputs": [],
   "source": [
    "%%bash\n",
    "gp open 02_Language_fundamentals.ipynb"
   ]
  }
 ],
 "metadata": {
  "kernelspec": {
   "display_name": "Python 3",
   "language": "python",
   "name": "python3"
  },
  "language_info": {
   "codemirror_mode": {
    "name": "ipython",
    "version": 3
   },
   "file_extension": ".py",
   "mimetype": "text/x-python",
   "name": "python",
   "nbconvert_exporter": "python",
   "pygments_lexer": "ipython3",
   "version": "3.9.16"
  },
  "orig_nbformat": 4,
  "vscode": {
   "interpreter": {
    "hash": "31f2aee4e71d21fbe5cf8b01ff0e069b9275f58929596ceb00d14d90e3e16cd6"
   }
  }
 },
 "nbformat": 4,
 "nbformat_minor": 2
}
